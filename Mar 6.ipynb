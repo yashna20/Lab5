{
 "cells": [
  {
   "cell_type": "code",
   "execution_count": 1,
   "metadata": {},
   "outputs": [
    {
     "name": "stdout",
     "output_type": "stream",
     "text": [
      "{'river', 'bank', 'sloping', 'was', 'The', 'dead', 'of', 'land', 'full', 'fishes'}\n"
     ]
    },
    {
     "name": "stderr",
     "output_type": "stream",
     "text": [
      "[nltk_data] Downloading package wordnet to C:\\Users\\Yashna\n",
      "[nltk_data]     Satyan\\AppData\\Roaming\\nltk_data...\n",
      "[nltk_data]   Package wordnet is already up-to-date!\n"
     ]
    }
   ],
   "source": [
    "import nltk\n",
    "nltk.download('wordnet')\n",
    "from nltk.corpus import wordnet\n",
    "my_text = 'The river bank sloping land was full of dead fishes'\n",
    "sent = my_text.split()\n",
    "context = set(sent)\n",
    "print(context)"
   ]
  },
  {
   "cell_type": "code",
   "execution_count": 3,
   "metadata": {},
   "outputs": [],
   "source": [
    "synsets = wordnet.synsets('bank')"
   ]
  },
  {
   "cell_type": "code",
   "execution_count": 4,
   "metadata": {},
   "outputs": [
    {
     "name": "stdout",
     "output_type": "stream",
     "text": [
      "Synset('bank.n.01') : sloping land (especially the slope beside a body of water)\n",
      "Synset('depository_financial_institution.n.01') : a financial institution that accepts deposits and channels the money into lending activities\n",
      "Synset('bank.n.03') : a long ridge or pile\n",
      "Synset('bank.n.04') : an arrangement of similar objects in a row or in tiers\n",
      "Synset('bank.n.05') : a supply or stock held in reserve for future use (especially in emergencies)\n",
      "Synset('bank.n.06') : the funds held by a gambling house or the dealer in some gambling games\n",
      "Synset('bank.n.07') : a slope in the turn of a road or track; the outside is higher than the inside in order to reduce the effects of centrifugal force\n",
      "Synset('savings_bank.n.02') : a container (usually with a slot in the top) for keeping money at home\n",
      "Synset('bank.n.09') : a building in which the business of banking transacted\n",
      "Synset('bank.n.10') : a flight maneuver; aircraft tips laterally about its longitudinal axis (especially in turning)\n",
      "Synset('bank.v.01') : tip laterally\n",
      "Synset('bank.v.02') : enclose with a bank\n",
      "Synset('bank.v.03') : do business with a bank or keep an account at a bank\n",
      "Synset('bank.v.04') : act as the banker in a game or in gambling\n",
      "Synset('bank.v.05') : be in the banking business\n",
      "Synset('deposit.v.02') : put into a bank account\n",
      "Synset('bank.v.07') : cover with ashes so to control the rate of burning\n",
      "Synset('trust.v.01') : have confidence or faith in\n"
     ]
    }
   ],
   "source": [
    "for ss in synsets:\n",
    "    print(ss,':',ss.definition())"
   ]
  },
  {
   "cell_type": "code",
   "execution_count": 6,
   "metadata": {},
   "outputs": [
    {
     "data": {
      "text/plain": [
       "(3, Synset('bank.n.01'))"
      ]
     },
     "execution_count": 6,
     "metadata": {},
     "output_type": "execute_result"
    }
   ],
   "source": [
    "sense = max((len(context.intersection(ss.definition().split())), ss) for ss in synsets)\n",
    "sense"
   ]
  },
  {
   "cell_type": "code",
   "execution_count": null,
   "metadata": {},
   "outputs": [],
   "source": []
  }
 ],
 "metadata": {
  "kernelspec": {
   "display_name": "Python 3",
   "language": "python",
   "name": "python3"
  },
  "language_info": {
   "codemirror_mode": {
    "name": "ipython",
    "version": 3
   },
   "file_extension": ".py",
   "mimetype": "text/x-python",
   "name": "python",
   "nbconvert_exporter": "python",
   "pygments_lexer": "ipython3",
   "version": "3.7.3"
  }
 },
 "nbformat": 4,
 "nbformat_minor": 2
}
